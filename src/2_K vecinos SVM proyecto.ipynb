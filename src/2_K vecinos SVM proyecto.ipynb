{
 "cells": [
  {
   "cell_type": "code",
   "execution_count": 92,
   "metadata": {
    "collapsed": true
   },
   "outputs": [],
   "source": [
    "import pandas as pd\n",
    "import numpy as np\n",
    "import sklearn.metrics as mtrcs\n",
    "import math\n",
    "import random  #para el randomize\n",
    "\n",
    "#Scikit\n",
    "from scipy.stats import norm\n",
    "from scipy import stats as st\n",
    "from sklearn.metrics import confusion_matrix\n",
    "from sklearn.cross_validation import train_test_split\n",
    "import matplotlib.pyplot as plt\n",
    "%matplotlib inline\n",
    "from sklearn.naive_bayes import GaussianNB\n",
    "from sklearn import svm\n",
    "from sklearn import tree\n",
    "import os #para exportar el pdf del tree\n",
    "from sklearn.datasets import load_iris   #para hacer load de datas iris\n",
    "\n",
    "#Éste es el objetivo de este experimento:\n",
    "from sklearn.neighbors import NearestNeighbors  #for unsupervised\n",
    "from sklearn.neighbors import KNeighborsRegressor #for supervised (the case now :) )"
   ]
  },
  {
   "cell_type": "code",
   "execution_count": 93,
   "metadata": {
    "collapsed": false
   },
   "outputs": [
    {
     "name": "stdout",
     "output_type": "stream",
     "text": [
      "   Unnamed: 0  PAY_0  maximum.delay  AMT1_PBILLIM  BILL_AMT1_cent  \\\n",
      "0           1      2              2      0.195650       -0.642490   \n",
      "1           2     -1              2      0.022350       -0.659208   \n",
      "2           3      0              0      0.324878       -0.298555   \n",
      "3           4      0              0      0.939800       -0.057490   \n",
      "4           5     -1              0      0.172340       -0.578608   \n",
      "\n",
      "   AMT3_PBILLIM  AMT1_PPAYBIL  PAY_2  AMT6_PBILLIM  AMT4_PBILLIM  \\\n",
      "0      0.034450      0.000000      2      0.000000      0.000000   \n",
      "1      0.022350      0.000000      2      0.027175      0.027267   \n",
      "2      0.150656      0.051917      0      0.172767      0.159233   \n",
      "3      0.985820      0.042562      0      0.590940      0.566280   \n",
      "4      0.716700      0.232099      0      0.382620      0.418800   \n",
      "\n",
      "   BILL_AMT2_cent  AMT5_PBILLIM  default.payment.next.month  \n",
      "0       -0.647388      0.000000                           1  \n",
      "1       -0.666735      0.028792                           1  \n",
      "2       -0.493891      0.166089                           0  \n",
      "3       -0.013292      0.579180                           0  \n",
      "4       -0.611308      0.382920                           0  \n"
     ]
    }
   ],
   "source": [
    "credit = pd.read_csv(\"credit4.csv\")\n",
    "print(credit.head())"
   ]
  },
  {
   "cell_type": "markdown",
   "metadata": {},
   "source": [
    "# K vecinos"
   ]
  },
  {
   "cell_type": "code",
   "execution_count": 94,
   "metadata": {
    "collapsed": false
   },
   "outputs": [],
   "source": [
    "#datosnormales\n",
    "X_train, X_test,Y_train,Y_test = train_test_split(credit.iloc[:,0:11],credit[['default.payment.next.month']], train_size=0.75)\n",
    "Xf=np.asarray(X_train)\n",
    "Yf=np.asarray(Y_train)\n",
    "Xftes = np.asarray(X_test)\n",
    "Yftes = np.asarray(Y_test)"
   ]
  },
  {
   "cell_type": "code",
   "execution_count": null,
   "metadata": {
    "collapsed": false
   },
   "outputs": [],
   "source": []
  },
  {
   "cell_type": "code",
   "execution_count": 95,
   "metadata": {
    "collapsed": false
   },
   "outputs": [
    {
     "name": "stdout",
     "output_type": "stream",
     "text": [
      "confusionmatrix =  [[4902  978]\n",
      " [1214  406]]\n",
      "precision =  0.293352601156\n",
      "Accuracy Score =  0.707733333333\n"
     ]
    }
   ],
   "source": [
    "neighDivide = KNeighborsRegressor(n_neighbors=1)\n",
    "neighDivide.fit(X_train, Y_train)\n",
    "predictNeigh_test = neighDivide.predict(X_test)\n",
    "\n",
    "print 'confusionmatrix = ', confusion_matrix(Y_test, predictNeigh_test)\n",
    "print 'precision = ', mtrcs.precision_score(Y_test, predictNeigh_test)\n",
    "print 'Accuracy Score = ', mtrcs.accuracy_score(Y_test, predictNeigh_test)"
   ]
  },
  {
   "cell_type": "markdown",
   "metadata": {},
   "source": [
    "# SVM"
   ]
  },
  {
   "cell_type": "code",
   "execution_count": 96,
   "metadata": {
    "collapsed": false
   },
   "outputs": [
    {
     "name": "stderr",
     "output_type": "stream",
     "text": [
      "/anaconda/anaconda/lib/python2.7/site-packages/sklearn/svm/base.py:514: DataConversionWarning: A column-vector y was passed when a 1d array was expected. Please change the shape of y to (n_samples, ), for example using ravel().\n",
      "  y_ = column_or_1d(y, warn=True)\n"
     ]
    },
    {
     "name": "stdout",
     "output_type": "stream",
     "text": [
      "confusionmatrix =  [[5639  241]\n",
      " [1017  603]]\n",
      "precision =  0.714454976303\n",
      "Accuracy Score =  0.832266666667\n"
     ]
    }
   ],
   "source": [
    "#penalty = 0.3  #esta variable determina qué tanto \"margen dejar\"\n",
    "clf = svm.SVC(kernel=\"rbf\",probability=True)\n",
    "h = clf.fit(Xf[:,1:11], Yf).predict(Xf[:,1:11])\n",
    "g = clf.predict(Xftes[:,1:11])\n",
    "# \"probabilities\"\n",
    "#probas_X_train = clf.predict_proba(Xf[:,1:11])\n",
    "#probas_X_test = clf.predict_proba(Xftes[:,1:11])\n",
    "#y_predSVM = clf.predict(Xftes[:,1:11])\n",
    "print 'confusionmatrix = ', confusion_matrix(Yftes, g)\n",
    "print 'precision = ', mtrcs.precision_score(Yftes, g)\n",
    "print 'Accuracy Score = ', mtrcs.accuracy_score(Yftes, g)"
   ]
  },
  {
   "cell_type": "code",
   "execution_count": 89,
   "metadata": {
    "collapsed": false
   },
   "outputs": [
    {
     "name": "stdout",
     "output_type": "stream",
     "text": [
      "(array([ 19298.,  25191.,  18658., ...,   4676.,  27846.,   2361.]), array([[ 0.82934728,  0.17065272],\n",
      "       [ 0.89352975,  0.10647025],\n",
      "       [ 0.84705359,  0.15294641],\n",
      "       ..., \n",
      "       [ 0.83145347,  0.16854653],\n",
      "       [ 0.83881614,  0.16118386],\n",
      "       [ 0.70155251,  0.29844749]]))\n"
     ]
    }
   ],
   "source": [
    "#guardando el vector de probas con indices \n",
    "print(Xf[:,0],probas_X_train2)\n",
    "np.savetxt(\"cord_Train.csv\",Xf[:,0],delimiter=\",\")\n",
    "np.savetxt(\"cord_test.csv\",Xftes[:,0],delimiter=\",\")\n",
    "np.savetxt(\"prob_train.csv\",probas_X_train,delimiter=\",\")\n",
    "np.savetxt(\"prob_test.csv\",probas_X_test,delimiter=\",\")"
   ]
  }
 ],
 "metadata": {
  "anaconda-cloud": {},
  "kernelspec": {
   "display_name": "Python [Root]",
   "language": "python",
   "name": "Python [Root]"
  },
  "language_info": {
   "codemirror_mode": {
    "name": "ipython",
    "version": 2
   },
   "file_extension": ".py",
   "mimetype": "text/x-python",
   "name": "python",
   "nbconvert_exporter": "python",
   "pygments_lexer": "ipython2",
   "version": "2.7.12"
  }
 },
 "nbformat": 4,
 "nbformat_minor": 0
}
