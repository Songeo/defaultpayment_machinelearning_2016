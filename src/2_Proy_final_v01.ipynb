{
 "cells": [
  {
   "cell_type": "markdown",
   "metadata": {},
   "source": [
    "## Proyecto Final\n",
    "## Mariana Godina\n",
    "## Rodrigo Andrés Morales Mendoza\n",
    "## Sonia Mendizábal"
   ]
  },
  {
   "cell_type": "code",
   "execution_count": 10,
   "metadata": {
    "collapsed": false
   },
   "outputs": [],
   "source": [
    "#seguro no hay problema\n",
    "import pandas as pd\n",
    "import numpy as np\n",
    "import sklearn.metrics as mtrcs\n",
    "import math\n",
    "\n",
    "from scipy.stats import norm\n",
    "from scipy import stats as st\n",
    "from sklearn.metrics import confusion_matrix\n",
    "from sklearn.cross_validation import train_test_split\n",
    "import matplotlib.pyplot as plt\n",
    "%matplotlib inline\n",
    "from sklearn.naive_bayes import GaussianNB\n",
    "from sklearn.naive_bayes import MultinomialNB\n",
    "from sklearn import svm\n",
    "from sklearn.ensemble import AdaBoostClassifier, RandomForestClassifier"
   ]
  },
  {
   "cell_type": "markdown",
   "metadata": {},
   "source": [
    "### Sklearn"
   ]
  },
  {
   "cell_type": "code",
   "execution_count": 9,
   "metadata": {
    "collapsed": false
   },
   "outputs": [
    {
     "name": "stdout",
     "output_type": "stream",
     "text": [
      "numObs =  30000\n",
      "numFeatures =  69\n"
     ]
    }
   ],
   "source": [
    "datos = pd.read_csv(\"limpio_credit_modif_07.csv\", header = 'infer')\n",
    "#print datos[0:5]\n",
    "#X_train, X_test,Y_train,Y_test = train_test_split(datos[datos.columns[0:57]],datos[datos.columns[-1]], train_size=0.75)\n",
    "#print type(datos) #datos is a panda data frame\n",
    "vec1 = datos.iloc[0]\n",
    "sizeData = datos.shape\n",
    "numObs = sizeData[0]\n",
    "numFeatures = sizeData[1]\n",
    "print 'numObs = ', numObs\n",
    "print 'numFeatures = ', numFeatures\n",
    "#la columna 24 es donde está el \"y\", que son los defaults de pago\n",
    "#rangeX = range(24) + range(25, numFeatures+1)\n",
    "\n",
    "#X = datos[datos.columns[0:24]]\n",
    "## Dos formas de conseguir las X, pero lo importante es que sea en el rango correcto:\n",
    "#X = datos.iloc[:,range(24) + range(25, numFeatures)]  \n",
    "X = datos[datos.columns[range(24) + range(25, numFeatures)]]\n",
    "y = datos[datos.columns[24]]\n",
    "\n",
    "X_categorical = datos.iloc[:,range(2,5) + range(6,12) + range(25,26) +range(51, 63)]  \n",
    "\n",
    "######### Si se quiere checar que se est\n",
    "#print 'Just to check that pay_0-6 is non-negative: '\n",
    "#print X_categorical.iloc[0:10, range(3,9)]\n",
    "#print X\n",
    "#print Y\n",
    "#print 'X.iloc[0:5, 22:27] = '\n",
    "#print X.iloc[0:5, 22:27]\n",
    "# print '------------------------------------------------------------------------'\n",
    "# print X[0:10]\n",
    "#print X_categorical[0:10]\n",
    "# print '------------------------------------------------------------------------'\n",
    "# print y[0:10]\n",
    "# print '------------------------------------------------------------------------'\n",
    "\n",
    "X_train, X_test,Y_train,Y_test = train_test_split(X,y, train_size=0.75)\n",
    "X_cat_train, X_cat_test,Y_cat_train,Y_cat_test = train_test_split(X_categorical,y, train_size=0.75)\n",
    "\n",
    "X_nonCat = datos.iloc[:,range(1,2) + range(12, 24)]  \n",
    "X_noncat_train, X_noncat_test,Y_noncat_train,Y_noncat_test = train_test_split(X_nonCat,y, train_size=0.75)\n",
    "\n",
    "#d=X_train.as_matrix()\n",
    "#dy=Y_train.as_matrix()"
   ]
  },
  {
   "cell_type": "code",
   "execution_count": 6,
   "metadata": {
    "collapsed": false
   },
   "outputs": [
    {
     "name": "stdout",
     "output_type": "stream",
     "text": [
      " ------------------------------------------------------------------------\n",
      "Performance over the training set: \n",
      "confusionmatrix =  [[16100  1415]\n",
      " [ 3129  1856]]\n",
      "precision =  0.567410577805\n",
      "recall =  0.372316950853\n",
      "Accuracy Score =  0.798044444444\n",
      "------------------------------------------------------------------------\n",
      "Performance over the TEST set *- the important one -* : \n",
      "confusionmatrix =  [[5388  461]\n",
      " [1032  619]]\n",
      "precision =  0.573148148148\n",
      "recall =  0.37492428831\n",
      "Accuracy Score =  0.800933333333\n"
     ]
    }
   ],
   "source": [
    "#gnb = GaussianNB()\n",
    "mnb = MultinomialNB()\n",
    "##y_pred = gnb.fit(X, y).predict(X)\n",
    "\n",
    "#### Entrenamos el multinomial model con las categóricas (del conjunto de entrenamiento:\n",
    "##print 'X_cat_train.shape = ', X_cat_train.shape\n",
    "##print 'Y_cat_train.shape = ', Y_cat_train.shape\n",
    "y_pred = mnb.fit(X_cat_train, Y_cat_train).predict(X_cat_train)\n",
    "##print 'y_pred.shape = ', y_pred.shape\n",
    "y_pred_test = mnb.predict(X_cat_test)\n",
    "\n",
    "#### Y obtenemos nuestras medidas de qué tan bien aprende el modelo:\n",
    "print '------------------------------------------------------------------------'\n",
    "print 'Performance over the training set: '\n",
    "print 'confusionmatrix = ', confusion_matrix(Y_cat_train, y_pred)\n",
    "print 'precision = ', mtrcs.precision_score(Y_cat_train, y_pred)\n",
    "print 'recall = ', mtrcs.recall_score(Y_cat_train, y_pred)\n",
    "print 'Accuracy Score = ', mtrcs.accuracy_score(Y_cat_train, y_pred)\n",
    "print '------------------------------------------------------------------------'\n",
    "print 'Performance over the TEST set *- the important one -* : '\n",
    "print 'confusionmatrix = ', confusion_matrix(Y_cat_test, y_pred_test)\n",
    "print 'precision = ', mtrcs.precision_score(Y_cat_test, y_pred_test)\n",
    "print 'recall = ', mtrcs.recall_score(Y_cat_test, y_pred_test)\n",
    "print 'Accuracy Score = ', mtrcs.accuracy_score(Y_cat_test, y_pred_test)"
   ]
  },
  {
   "cell_type": "code",
   "execution_count": 8,
   "metadata": {
    "collapsed": false
   },
   "outputs": [
    {
     "ename": "ValueError",
     "evalue": "Input X must be non-negative",
     "output_type": "error",
     "traceback": [
      "\u001b[1;31m---------------------------------------------------------------------------\u001b[0m",
      "\u001b[1;31mValueError\u001b[0m                                Traceback (most recent call last)",
      "\u001b[1;32m<ipython-input-8-70934ef45e81>\u001b[0m in \u001b[0;36m<module>\u001b[1;34m()\u001b[0m\n\u001b[0;32m      2\u001b[0m \u001b[0mgnb\u001b[0m \u001b[1;33m=\u001b[0m \u001b[0mGaussianNB\u001b[0m\u001b[1;33m(\u001b[0m\u001b[1;33m)\u001b[0m\u001b[1;33m\u001b[0m\u001b[0m\n\u001b[0;32m      3\u001b[0m \u001b[1;33m\u001b[0m\u001b[0m\n\u001b[1;32m----> 4\u001b[1;33m \u001b[0my_pred\u001b[0m \u001b[1;33m=\u001b[0m \u001b[0mmnb\u001b[0m\u001b[1;33m.\u001b[0m\u001b[0mfit\u001b[0m\u001b[1;33m(\u001b[0m\u001b[0mX_noncat_train\u001b[0m\u001b[1;33m,\u001b[0m \u001b[0mY_noncat_train\u001b[0m\u001b[1;33m)\u001b[0m\u001b[1;33m.\u001b[0m\u001b[0mpredict\u001b[0m\u001b[1;33m(\u001b[0m\u001b[0mX_noncat_train\u001b[0m\u001b[1;33m)\u001b[0m\u001b[1;33m\u001b[0m\u001b[0m\n\u001b[0m\u001b[0;32m      5\u001b[0m \u001b[1;31m##print 'y_pred.shape = ', y_pred.shape\u001b[0m\u001b[1;33m\u001b[0m\u001b[1;33m\u001b[0m\u001b[0m\n\u001b[0;32m      6\u001b[0m \u001b[0my_pred_test\u001b[0m \u001b[1;33m=\u001b[0m \u001b[0mmnb\u001b[0m\u001b[1;33m.\u001b[0m\u001b[0mpredict\u001b[0m\u001b[1;33m(\u001b[0m\u001b[0mX_noncat_test\u001b[0m\u001b[1;33m)\u001b[0m\u001b[1;33m\u001b[0m\u001b[0m\n",
      "\u001b[1;32mD:\\SISTEMAFINANCIERO\\Anaconda2\\lib\\site-packages\\sklearn\\naive_bayes.pyc\u001b[0m in \u001b[0;36mfit\u001b[1;34m(self, X, y, sample_weight)\u001b[0m\n\u001b[0;32m    550\u001b[0m         self.feature_count_ = np.zeros((n_effective_classes, n_features),\n\u001b[0;32m    551\u001b[0m                                        dtype=np.float64)\n\u001b[1;32m--> 552\u001b[1;33m         \u001b[0mself\u001b[0m\u001b[1;33m.\u001b[0m\u001b[0m_count\u001b[0m\u001b[1;33m(\u001b[0m\u001b[0mX\u001b[0m\u001b[1;33m,\u001b[0m \u001b[0mY\u001b[0m\u001b[1;33m)\u001b[0m\u001b[1;33m\u001b[0m\u001b[0m\n\u001b[0m\u001b[0;32m    553\u001b[0m         \u001b[0mself\u001b[0m\u001b[1;33m.\u001b[0m\u001b[0m_update_feature_log_prob\u001b[0m\u001b[1;33m(\u001b[0m\u001b[1;33m)\u001b[0m\u001b[1;33m\u001b[0m\u001b[0m\n\u001b[0;32m    554\u001b[0m         \u001b[0mself\u001b[0m\u001b[1;33m.\u001b[0m\u001b[0m_update_class_log_prior\u001b[0m\u001b[1;33m(\u001b[0m\u001b[0mclass_prior\u001b[0m\u001b[1;33m=\u001b[0m\u001b[0mclass_prior\u001b[0m\u001b[1;33m)\u001b[0m\u001b[1;33m\u001b[0m\u001b[0m\n",
      "\u001b[1;32mD:\\SISTEMAFINANCIERO\\Anaconda2\\lib\\site-packages\\sklearn\\naive_bayes.pyc\u001b[0m in \u001b[0;36m_count\u001b[1;34m(self, X, Y)\u001b[0m\n\u001b[0;32m    653\u001b[0m         \u001b[1;34m\"\"\"Count and smooth feature occurrences.\"\"\"\u001b[0m\u001b[1;33m\u001b[0m\u001b[0m\n\u001b[0;32m    654\u001b[0m         \u001b[1;32mif\u001b[0m \u001b[0mnp\u001b[0m\u001b[1;33m.\u001b[0m\u001b[0many\u001b[0m\u001b[1;33m(\u001b[0m\u001b[1;33m(\u001b[0m\u001b[0mX\u001b[0m\u001b[1;33m.\u001b[0m\u001b[0mdata\u001b[0m \u001b[1;32mif\u001b[0m \u001b[0missparse\u001b[0m\u001b[1;33m(\u001b[0m\u001b[0mX\u001b[0m\u001b[1;33m)\u001b[0m \u001b[1;32melse\u001b[0m \u001b[0mX\u001b[0m\u001b[1;33m)\u001b[0m \u001b[1;33m<\u001b[0m \u001b[1;36m0\u001b[0m\u001b[1;33m)\u001b[0m\u001b[1;33m:\u001b[0m\u001b[1;33m\u001b[0m\u001b[0m\n\u001b[1;32m--> 655\u001b[1;33m             \u001b[1;32mraise\u001b[0m \u001b[0mValueError\u001b[0m\u001b[1;33m(\u001b[0m\u001b[1;34m\"Input X must be non-negative\"\u001b[0m\u001b[1;33m)\u001b[0m\u001b[1;33m\u001b[0m\u001b[0m\n\u001b[0m\u001b[0;32m    656\u001b[0m         \u001b[0mself\u001b[0m\u001b[1;33m.\u001b[0m\u001b[0mfeature_count_\u001b[0m \u001b[1;33m+=\u001b[0m \u001b[0msafe_sparse_dot\u001b[0m\u001b[1;33m(\u001b[0m\u001b[0mY\u001b[0m\u001b[1;33m.\u001b[0m\u001b[0mT\u001b[0m\u001b[1;33m,\u001b[0m \u001b[0mX\u001b[0m\u001b[1;33m)\u001b[0m\u001b[1;33m\u001b[0m\u001b[0m\n\u001b[0;32m    657\u001b[0m         \u001b[0mself\u001b[0m\u001b[1;33m.\u001b[0m\u001b[0mclass_count_\u001b[0m \u001b[1;33m+=\u001b[0m \u001b[0mY\u001b[0m\u001b[1;33m.\u001b[0m\u001b[0msum\u001b[0m\u001b[1;33m(\u001b[0m\u001b[0maxis\u001b[0m\u001b[1;33m=\u001b[0m\u001b[1;36m0\u001b[0m\u001b[1;33m)\u001b[0m\u001b[1;33m\u001b[0m\u001b[0m\n",
      "\u001b[1;31mValueError\u001b[0m: Input X must be non-negative"
     ]
    }
   ],
   "source": [
    "## Corremosn GaussianNB\n",
    "gnb = GaussianNB()\n",
    "############ No jala porque el input debe ser non-negative...\n",
    "y_pred = mnb.fit(X_noncat_train, Y_noncat_train).predict(X_noncat_train)\n",
    "##print 'y_pred.shape = ', y_pred.shape\n",
    "y_pred_test = mnb.predict(X_noncat_test)\n",
    "\n",
    "#### Y obtenemos nuestras medidas de qué tan bien aprende el modelo:\n",
    "print '------------------------------------------------------------------------'\n",
    "print 'Performance over the training set: '\n",
    "print 'confusionmatrix = ', confusion_matrix(Y_noncat_train, y_pred)\n",
    "print 'precision = ', mtrcs.precision_score(Y_noncat_train, y_pred)\n",
    "print 'recall = ', mtrcs.recall_score(Y_noncat_train, y_pred)\n",
    "print 'Accuracy Score = ', mtrcs.accuracy_score(Y_noncat_train, y_pred)\n",
    "print '------------------------------------------------------------------------'\n",
    "print 'Performance over the TEST set *- the important one -* : '\n",
    "print 'confusionmatrix = ', confusion_matrix(Y_noncat_test, y_pred_test)\n",
    "print 'precision = ', mtrcs.precision_score(Y_noncat_test, y_pred_test)\n",
    "print 'recall = ', mtrcs.recall_score(Y_noncat_test, y_pred_test)\n",
    "print 'Accuracy Score = ', mtrcs.accuracy_score(Y_noncat_test, y_pred_test)"
   ]
  },
  {
   "cell_type": "code",
   "execution_count": 11,
   "metadata": {
    "collapsed": false
   },
   "outputs": [
    {
     "name": "stdout",
     "output_type": "stream",
     "text": [
      "------------------------------------------------------------------------\n",
      "Performance over the training set: \n",
      "confusionmatrix =  [[17387   134]\n",
      " [  808  4171]]\n",
      "precision =  0.96887340302\n",
      "recall =  0.837718417353\n",
      "Accuracy Score =  0.958133333333\n",
      "------------------------------------------------------------------------\n",
      "Performance over the TEST set *- the important one -* : \n",
      "confusionmatrix =  [[5451  392]\n",
      " [1108  549]]\n",
      "precision =  0.583421891605\n",
      "recall =  0.331321665661\n",
      "Accuracy Score =  0.8\n"
     ]
    }
   ],
   "source": [
    "### corremos el Random Forest, sobre Categorical:\n",
    "randf = RandomForestClassifier()\n",
    "randf.fit(X_cat_train, Y_cat_train)\n",
    "y_pred = randf.predict(X_cat_train)\n",
    "y_pred_test = randf.predict(X_cat_test)\n",
    "\n",
    "#### Y obtenemos nuestras medidas de qué tan bien aprende el modelo:\n",
    "print '------------------------------------------------------------------------'\n",
    "print 'Performance over the training set: '\n",
    "print 'confusionmatrix = ', confusion_matrix(Y_cat_train, y_pred)\n",
    "print 'precision = ', mtrcs.precision_score(Y_cat_train, y_pred)\n",
    "print 'recall = ', mtrcs.recall_score(Y_cat_train, y_pred)\n",
    "print 'Accuracy Score = ', mtrcs.accuracy_score(Y_cat_train, y_pred)\n",
    "print '------------------------------------------------------------------------'\n",
    "print 'Performance over the TEST set *- the important one -* : '\n",
    "print 'confusionmatrix = ', confusion_matrix(Y_cat_test, y_pred_test)\n",
    "print 'precision = ', mtrcs.precision_score(Y_cat_test, y_pred_test)\n",
    "print 'recall = ', mtrcs.recall_score(Y_cat_test, y_pred_test)\n",
    "print 'Accuracy Score = ', mtrcs.accuracy_score(Y_cat_test, y_pred_test)"
   ]
  },
  {
   "cell_type": "code",
   "execution_count": 12,
   "metadata": {
    "collapsed": false
   },
   "outputs": [
    {
     "name": "stdout",
     "output_type": "stream",
     "text": [
      "------------------------------------------------------------------------\n",
      "Performance over the training set: \n",
      "confusionmatrix =  [[17473    88]\n",
      " [  587  4352]]\n",
      "precision =  0.98018018018\n",
      "recall =  0.881150030371\n",
      "Accuracy Score =  0.97\n",
      "------------------------------------------------------------------------\n",
      "Performance over the TEST set *- the important one -* : \n",
      "confusionmatrix =  [[5466  337]\n",
      " [1351  346]]\n",
      "precision =  0.506588579795\n",
      "recall =  0.203889216264\n",
      "Accuracy Score =  0.774933333333\n"
     ]
    }
   ],
   "source": [
    "### corremos el Random Forest, sobre non-Categorical:\n",
    "randf = RandomForestClassifier()\n",
    "randf.fit(X_noncat_train, Y_noncat_train)\n",
    "y_pred = randf.predict(X_noncat_train)\n",
    "y_pred_test = randf.predict(X_noncat_test)\n",
    "\n",
    "#### Y obtenemos nuestras medidas de qué tan bien aprende el modelo:\n",
    "print '------------------------------------------------------------------------'\n",
    "print 'Performance over the training set: '\n",
    "print 'confusionmatrix = ', confusion_matrix(Y_noncat_train, y_pred)\n",
    "print 'precision = ', mtrcs.precision_score(Y_noncat_train, y_pred)\n",
    "print 'recall = ', mtrcs.recall_score(Y_noncat_train, y_pred)\n",
    "print 'Accuracy Score = ', mtrcs.accuracy_score(Y_noncat_train, y_pred)\n",
    "print '------------------------------------------------------------------------'\n",
    "print 'Performance over the TEST set *- the important one -* : '\n",
    "print 'confusionmatrix = ', confusion_matrix(Y_noncat_test, y_pred_test)\n",
    "print 'precision = ', mtrcs.precision_score(Y_noncat_test, y_pred_test)\n",
    "print 'recall = ', mtrcs.recall_score(Y_noncat_test, y_pred_test)\n",
    "print 'Accuracy Score = ', mtrcs.accuracy_score(Y_noncat_test, y_pred_test)"
   ]
  },
  {
   "cell_type": "code",
   "execution_count": null,
   "metadata": {
    "collapsed": true
   },
   "outputs": [],
   "source": []
  },
  {
   "cell_type": "code",
   "execution_count": null,
   "metadata": {
    "collapsed": true
   },
   "outputs": [],
   "source": []
  },
  {
   "cell_type": "code",
   "execution_count": 25,
   "metadata": {
    "collapsed": false
   },
   "outputs": [
    {
     "name": "stdout",
     "output_type": "stream",
     "text": [
      " 0.0\n",
      "[[ 0.5  0.5]]\n",
      "confusionmatrix =  [[4 0]\n",
      " [1 2]]\n",
      "precision =  1.0\n",
      "recall =  0.666666666667\n",
      "Accuracy Score =  0.857142857143\n"
     ]
    }
   ],
   "source": [
    "## Corremos SVM con kernel Gaussiano y vars Categorical...\n",
    "clf = svm.SVC(kernel=\"rbf\",probability=True)\n",
    "y_predSVM = clf.fit(X_cat_train, Y_cat_train).predict(X_cat_train)\n",
    "y_pred_test = clf.predict(X_cat_test)\n",
    "print '------------------------------------------------------------------------'\n",
    "print clf.coef0\n",
    "print clf.coef_\n",
    "print 'confusionmatrix = ', confusion_matrix(Y_cat_test, y_predSVM)\n",
    "print 'precision = ', mtrcs.precision_score(Y_cat_test, y_predSVM)\n",
    "print 'recall = ', mtrcs.recall_score(Y_cat_test, y_predSVM)\n",
    "print 'Accuracy Score = ', mtrcs.accuracy_score(Y_cat_test, y_predSVM)\n",
    "print '------------------------------------------------------------------------'\n",
    "print 'Performance over the TEST set *- the important one -* : '\n",
    "print 'confusionmatrix = ', confusion_matrix(Y_cat_test, y_pred_test)\n",
    "print 'precision = ', mtrcs.precision_score(Y_cat_test, y_pred_test)\n",
    "print 'recall = ', mtrcs.recall_score(Y_cat_test, y_pred_test)\n",
    "print 'Accuracy Score = ', mtrcs.accuracy_score(Y_cat_test, y_pred_test)"
   ]
  },
  {
   "cell_type": "code",
   "execution_count": null,
   "metadata": {
    "collapsed": true
   },
   "outputs": [],
   "source": [
    "## Corremos SVM con kernel Gaussiano y variables non-Categorical...\n",
    "clf = svm.SVC(kernel=\"rbf\",probability=True)\n",
    "y_predSVM = clf.fit(X_noncat_train, Y_noncat_train).predict(X_noncat_train)\n",
    "y_pred_test = clf.predict(X_noncat_test)\n",
    "print '------------------------------------------------------------------------'\n",
    "print clf.coef0\n",
    "print clf.coef_\n",
    "print 'confusionmatrix = ', confusion_matrix(Y_noncat_test, y_predSVM)\n",
    "print 'precision = ', mtrcs.precision_score(Y_noncat_test, y_predSVM)\n",
    "print 'recall = ', mtrcs.recall_score(Y_noncat_test, y_predSVM)\n",
    "print 'Accuracy Score = ', mtrcs.accuracy_score(Y_noncat_test, y_predSVM)\n",
    "print '------------------------------------------------------------------------'\n",
    "print 'Performance over the TEST set *- the important one -* : '\n",
    "print 'confusionmatrix = ', confusion_matrix(Y_noncat_test, y_pred_test)\n",
    "print 'precision = ', mtrcs.precision_score(Y_noncat_test, y_pred_test)\n",
    "print 'recall = ', mtrcs.recall_score(Y_noncat_test, y_pred_test)\n",
    "print 'Accuracy Score = ', mtrcs.accuracy_score(Y_noncat_test, y_pred_test)"
   ]
  },
  {
   "cell_type": "code",
   "execution_count": null,
   "metadata": {
    "collapsed": true
   },
   "outputs": [],
   "source": []
  },
  {
   "cell_type": "code",
   "execution_count": null,
   "metadata": {
    "collapsed": true
   },
   "outputs": [],
   "source": []
  },
  {
   "cell_type": "code",
   "execution_count": null,
   "metadata": {
    "collapsed": true
   },
   "outputs": [],
   "source": []
  },
  {
   "cell_type": "code",
   "execution_count": null,
   "metadata": {
    "collapsed": true
   },
   "outputs": [],
   "source": []
  },
  {
   "cell_type": "code",
   "execution_count": null,
   "metadata": {
    "collapsed": true
   },
   "outputs": [],
   "source": []
  },
  {
   "cell_type": "code",
   "execution_count": null,
   "metadata": {
    "collapsed": true
   },
   "outputs": [],
   "source": []
  },
  {
   "cell_type": "code",
   "execution_count": null,
   "metadata": {
    "collapsed": true
   },
   "outputs": [],
   "source": []
  },
  {
   "cell_type": "code",
   "execution_count": 34,
   "metadata": {
    "collapsed": false
   },
   "outputs": [
    {
     "name": "stdout",
     "output_type": "stream",
     "text": [
      "0.5\n",
      "La barrera es:\n"
     ]
    },
    {
     "data": {
      "text/plain": [
       "[<matplotlib.lines.Line2D at 0xd1ca2e8>]"
      ]
     },
     "execution_count": 34,
     "metadata": {},
     "output_type": "execute_result"
    },
    {
     "data": {
      "image/png": "[encoded data removed]",
      "text/plain": [
       "<matplotlib.figure.Figure at 0xd1d6080>"
      ]
     },
     "metadata": {},
     "output_type": "display_data"
    }
   ],
   "source": [
    "#PLOTS\n",
    "W0 = [clf.coef0]\n",
    "WS = clf.coef_[0]\n",
    "X1s = np.linspace(-2, 2, num=100)\n",
    "print WS[1]\n",
    "X2s = (-WS[0]*X1s - W0 ) / float(WS[1])\n",
    "#print X1s / float(WS[1])\n",
    "\n",
    "print 'La barrera es:'\n",
    "plt.plot(X1s ,X2s,'-k')\n",
    "#Xplot = X.as_matrix()\n",
    "plt.plot(Xplot[:,0],Xplot[:,1],'*k')"
   ]
  },
  {
   "cell_type": "code",
   "execution_count": 82,
   "metadata": {
    "collapsed": false
   },
   "outputs": [],
   "source": []
  },
  {
   "cell_type": "code",
   "execution_count": 83,
   "metadata": {
    "collapsed": false
   },
   "outputs": [],
   "source": []
  },
  {
   "cell_type": "code",
   "execution_count": 84,
   "metadata": {
    "collapsed": false
   },
   "outputs": [],
   "source": []
  },
  {
   "cell_type": "code",
   "execution_count": 85,
   "metadata": {
    "collapsed": false
   },
   "outputs": [],
   "source": []
  },
  {
   "cell_type": "code",
   "execution_count": 86,
   "metadata": {
    "collapsed": false
   },
   "outputs": [],
   "source": []
  },
  {
   "cell_type": "code",
   "execution_count": 87,
   "metadata": {
    "collapsed": false
   },
   "outputs": [
    {
     "data": {
      "text/html": [
       "<div>\n",
       "<table border=\"1\" class=\"dataframe\">\n",
       "  <thead>\n",
       "    <tr style=\"text-align: right;\">\n",
       "      <th></th>\n",
       "      <th>0</th>\n",
       "      <th>1</th>\n",
       "      <th>2</th>\n",
       "      <th>3</th>\n",
       "      <th>4</th>\n",
       "      <th>5</th>\n",
       "      <th>6</th>\n",
       "      <th>7</th>\n",
       "      <th>8</th>\n",
       "      <th>9</th>\n",
       "      <th>...</th>\n",
       "      <th>47</th>\n",
       "      <th>48</th>\n",
       "      <th>49</th>\n",
       "      <th>50</th>\n",
       "      <th>51</th>\n",
       "      <th>52</th>\n",
       "      <th>53</th>\n",
       "      <th>54</th>\n",
       "      <th>55</th>\n",
       "      <th>56</th>\n",
       "    </tr>\n",
       "  </thead>\n",
       "  <tbody>\n",
       "    <tr>\n",
       "      <th>4400</th>\n",
       "      <td>0.0</td>\n",
       "      <td>0.0</td>\n",
       "      <td>1.09</td>\n",
       "      <td>0.0</td>\n",
       "      <td>0.0</td>\n",
       "      <td>0.0</td>\n",
       "      <td>0.0</td>\n",
       "      <td>0.0</td>\n",
       "      <td>0.0</td>\n",
       "      <td>0.0</td>\n",
       "      <td>...</td>\n",
       "      <td>0.0</td>\n",
       "      <td>0.0</td>\n",
       "      <td>0.656</td>\n",
       "      <td>0.0</td>\n",
       "      <td>0.656</td>\n",
       "      <td>0.0</td>\n",
       "      <td>0.0</td>\n",
       "      <td>1.488</td>\n",
       "      <td>5</td>\n",
       "      <td>67</td>\n",
       "    </tr>\n",
       "  </tbody>\n",
       "</table>\n",
       "<p>1 rows × 57 columns</p>\n",
       "</div>"
      ],
      "text/plain": [
       "       0    1     2    3    4    5    6    7    8    9  ...   47   48     49  \\\n",
       "4400  0.0  0.0  1.09  0.0  0.0  0.0  0.0  0.0  0.0  0.0 ...  0.0  0.0  0.656   \n",
       "\n",
       "       50     51   52   53     54  55  56  \n",
       "4400  0.0  0.656  0.0  0.0  1.488   5  67  \n",
       "\n",
       "[1 rows x 57 columns]"
      ]
     },
     "execution_count": 87,
     "metadata": {},
     "output_type": "execute_result"
    }
   ],
   "source": []
  },
  {
   "cell_type": "code",
   "execution_count": 88,
   "metadata": {
    "collapsed": false
   },
   "outputs": [],
   "source": []
  },
  {
   "cell_type": "code",
   "execution_count": 89,
   "metadata": {
    "collapsed": false
   },
   "outputs": [],
   "source": []
  },
  {
   "cell_type": "code",
   "execution_count": 90,
   "metadata": {
    "collapsed": false
   },
   "outputs": [],
   "source": []
  },
  {
   "cell_type": "code",
   "execution_count": 91,
   "metadata": {
    "collapsed": true
   },
   "outputs": [],
   "source": []
  },
  {
   "cell_type": "code",
   "execution_count": 92,
   "metadata": {
    "collapsed": false
   },
   "outputs": [
    {
     "name": "stdout",
     "output_type": "stream",
     "text": [
      "El Naive Bayes de Mariana da...\n",
      "confusionmatrix =  [[521 193]\n",
      " [ 28 409]]\n",
      "precision =  0.679401993355\n",
      "recall =  0.935926773455\n",
      "Accuracy Score =  0.807993049522\n"
     ]
    }
   ],
   "source": []
  },
  {
   "cell_type": "code",
   "execution_count": 93,
   "metadata": {
    "collapsed": false,
    "scrolled": true
   },
   "outputs": [
    {
     "name": "stdout",
     "output_type": "stream",
     "text": [
      "(0.9583333333333334, 0.7151079136690648)\n"
     ]
    }
   ],
   "source": []
  },
  {
   "cell_type": "markdown",
   "metadata": {},
   "source": [
    "## Usando Naive Bayes"
   ]
  },
  {
   "cell_type": "code",
   "execution_count": 19,
   "metadata": {
    "collapsed": false
   },
   "outputs": [
    {
     "data": {
      "text/plain": [
       "array([[496, 176],\n",
       "       [ 15, 464]])"
      ]
     },
     "execution_count": 19,
     "metadata": {},
     "output_type": "execute_result"
    }
   ],
   "source": []
  },
  {
   "cell_type": "code",
   "execution_count": 20,
   "metadata": {
    "collapsed": false
   },
   "outputs": [
    {
     "name": "stdout",
     "output_type": "stream",
     "text": [
      "(0.9583333333333334, 0.7179856115107913)\n"
     ]
    }
   ],
   "source": [
    "prob_ac_spam = (float(499)/float(499+196))\n",
    "prob_aciertos_nospam = float(437)/float(437+19)\n",
    "print(prob_aciertos_nospam, prob_ac_spam)"
   ]
  },
  {
   "cell_type": "code",
   "execution_count": 23,
   "metadata": {
    "collapsed": false
   },
   "outputs": [
    {
     "name": "stdout",
     "output_type": "stream",
     "text": [
      "confusionmatrix =  [[496 176]\n",
      " [ 15 464]]\n",
      "precision =  0.725\n",
      "recall =  0.968684759916\n",
      "Accuracy Score =  0.834057341442\n"
     ]
    }
   ],
   "source": []
  },
  {
   "cell_type": "code",
   "execution_count": null,
   "metadata": {
    "collapsed": true
   },
   "outputs": [],
   "source": []
  }
 ],
 "metadata": {
  "anaconda-cloud": {},
  "kernelspec": {
   "display_name": "Python 2",
   "language": "python",
   "name": "python2"
  },
  "language_info": {
   "codemirror_mode": {
    "name": "ipython",
    "version": 2
   },
   "file_extension": ".py",
   "mimetype": "text/x-python",
   "name": "python",
   "nbconvert_exporter": "python",
   "pygments_lexer": "ipython2",
   "version": "2.7.11"
  }
 },
 "nbformat": 4,
 "nbformat_minor": 0
}
